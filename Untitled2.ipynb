{
 "cells": [
  {
   "cell_type": "code",
   "execution_count": 9,
   "id": "f11ef976-068f-496d-97c9-29e0cd4b276b",
   "metadata": {},
   "outputs": [],
   "source": [
    "from sklearn.feature_extraction.text import CountVectorizer\n",
    "from sklearn.metrics.pairwise import cosine_similarity"
   ]
  },
  {
   "cell_type": "code",
   "execution_count": 6,
   "id": "165c33d7-0c48-4732-9b04-0f16ce8df4ba",
   "metadata": {},
   "outputs": [],
   "source": [
    "sentences =['Action Movie','Action Tv show','Romantic movie','Romatic Tv show','Action Movies']"
   ]
  },
  {
   "cell_type": "code",
   "execution_count": 13,
   "id": "1af9c758-6708-4c5f-b6f5-27c1df86fd36",
   "metadata": {},
   "outputs": [],
   "source": [
    "cv=CountVectorizer()"
   ]
  },
  {
   "cell_type": "code",
   "execution_count": 15,
   "id": "8af640b0-cab3-4e60-b86b-82e60f4d6ed3",
   "metadata": {},
   "outputs": [],
   "source": [
    "count_matrix = cv.fit_transform(sentences)"
   ]
  },
  {
   "cell_type": "code",
   "execution_count": 16,
   "id": "833de56d-9d41-4bb6-8a56-faa15c2cb169",
   "metadata": {},
   "outputs": [
    {
     "data": {
      "text/plain": [
       "array([[1, 1, 0, 0, 0],\n",
       "       [1, 0, 0, 1, 1],\n",
       "       [0, 1, 1, 0, 0]], dtype=int64)"
      ]
     },
     "execution_count": 16,
     "metadata": {},
     "output_type": "execute_result"
    }
   ],
   "source": [
    "count_matrix.toarray()"
   ]
  },
  {
   "cell_type": "code",
   "execution_count": 17,
   "id": "534e96d3-5f4d-49ed-807d-9f4a6741f59c",
   "metadata": {},
   "outputs": [
    {
     "data": {
      "text/plain": [
       "array([[1.        , 0.40824829, 0.5       ],\n",
       "       [0.40824829, 1.        , 0.        ],\n",
       "       [0.5       , 0.        , 1.        ]])"
      ]
     },
     "execution_count": 17,
     "metadata": {},
     "output_type": "execute_result"
    }
   ],
   "source": [
    "cosine_similarity(count_matrix)"
   ]
  },
  {
   "cell_type": "code",
   "execution_count": null,
   "id": "490df3d1-b7b2-459d-ac6a-c51a92be23b7",
   "metadata": {},
   "outputs": [],
   "source": []
  }
 ],
 "metadata": {
  "kernelspec": {
   "display_name": "Python 3 (ipykernel)",
   "language": "python",
   "name": "python3"
  },
  "language_info": {
   "codemirror_mode": {
    "name": "ipython",
    "version": 3
   },
   "file_extension": ".py",
   "mimetype": "text/x-python",
   "name": "python",
   "nbconvert_exporter": "python",
   "pygments_lexer": "ipython3",
   "version": "3.10.1"
  }
 },
 "nbformat": 4,
 "nbformat_minor": 5
}
