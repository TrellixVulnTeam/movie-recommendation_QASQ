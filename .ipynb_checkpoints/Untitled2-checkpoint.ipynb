{
 "cells": [
  {
   "cell_type": "code",
   "execution_count": 5,
   "id": "f11ef976-068f-496d-97c9-29e0cd4b276b",
   "metadata": {},
   "outputs": [],
   "source": [
    "from sklearn.feature_extraction.text\n",
    "import CountVectorizer\n",
    "from sklearn.metrics.pairwise\n",
    "import cosine_similarity"
   ]
  },
  {
   "cell_type": "code",
   "execution_count": 6,
   "id": "165c33d7-0c48-4732-9b04-0f16ce8df4ba",
   "metadata": {},
   "outputs": [],
   "source": [
    "sentences =['Action Movie','Action Tv show','Romantic movie']"
   ]
  },
  {
   "cell_type": "code",
   "execution_count": 7,
   "id": "1af9c758-6708-4c5f-b6f5-27c1df86fd36",
   "metadata": {},
   "outputs": [
    {
     "ename": "NameError",
     "evalue": "name 'Countvectorizer' is not defined",
     "output_type": "error",
     "traceback": [
      "\u001b[1;31m---------------------------------------------------------------------------\u001b[0m",
      "\u001b[1;31mNameError\u001b[0m                                 Traceback (most recent call last)",
      "Input \u001b[1;32mIn [7]\u001b[0m, in \u001b[0;36m<cell line: 1>\u001b[1;34m()\u001b[0m\n\u001b[1;32m----> 1\u001b[0m cv\u001b[38;5;241m=\u001b[39mCountvectorizer()\n",
      "\u001b[1;31mNameError\u001b[0m: name 'Countvectorizer' is not defined"
     ]
    }
   ],
   "source": [
    "cv=Countvectorizer()"
   ]
  },
  {
   "cell_type": "code",
   "execution_count": null,
   "id": "8af640b0-cab3-4e60-b86b-82e60f4d6ed3",
   "metadata": {},
   "outputs": [],
   "source": []
  }
 ],
 "metadata": {
  "kernelspec": {
   "display_name": "Python 3 (ipykernel)",
   "language": "python",
   "name": "python3"
  },
  "language_info": {
   "codemirror_mode": {
    "name": "ipython",
    "version": 3
   },
   "file_extension": ".py",
   "mimetype": "text/x-python",
   "name": "python",
   "nbconvert_exporter": "python",
   "pygments_lexer": "ipython3",
   "version": "3.10.1"
  }
 },
 "nbformat": 4,
 "nbformat_minor": 5
}
