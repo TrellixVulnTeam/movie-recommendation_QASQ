{
 "cells": [
  {
   "cell_type": "code",
   "execution_count": 1,
   "id": "6d538e11-7521-454f-a7a8-ab6f5d43bcee",
   "metadata": {},
   "outputs": [],
   "source": [
    "import pandas as pd\n",
    "from sklearn.feature_extraction.text import CountVectorizer\n",
    "from sklearn.metrics.pairwise import cosine_similarity"
   ]
  },
  {
   "cell_type": "code",
   "execution_count": 2,
   "id": "6fabd96c-13c8-455e-849a-04a538f85ae4",
   "metadata": {},
   "outputs": [],
   "source": [
    "def combined_feature(row):\n",
    "    return row['genres']+\" \"+row['keywords']+\" \"+row['tagline']+\" \"+row['overview']+\" \"+row['cast']+\" \"+row['director']"
   ]
  },
  {
   "cell_type": "code",
   "execution_count": 3,
   "id": "a4bf126a-a325-4a99-9ac0-c9b58e790746",
   "metadata": {},
   "outputs": [],
   "source": [
    "df = pd.read_csv(\"movie_dataset.csv\")"
   ]
  },
  {
   "cell_type": "code",
   "execution_count": 5,
   "id": "944c22cb-c293-4254-82e5-e16bb631d43d",
   "metadata": {},
   "outputs": [],
   "source": [
    "features = ['keywords','cast','tagline','overview','genres','director']\n",
    "for feature in features:\n",
    "    df[feature] = df[feature].fillna('')"
   ]
  },
  {
   "cell_type": "code",
   "execution_count": 7,
   "id": "f9674148-434e-4dc9-b311-6a974c3016d3",
   "metadata": {},
   "outputs": [
    {
     "ename": "NameError",
     "evalue": "name 'combined_features' is not defined",
     "output_type": "error",
     "traceback": [
      "\u001b[1;31m---------------------------------------------------------------------------\u001b[0m",
      "\u001b[1;31mNameError\u001b[0m                                 Traceback (most recent call last)",
      "Input \u001b[1;32mIn [7]\u001b[0m, in \u001b[0;36m<cell line: 1>\u001b[1;34m()\u001b[0m\n\u001b[1;32m----> 1\u001b[0m df[\u001b[38;5;124m\"\u001b[39m\u001b[38;5;124mcombined_feature\u001b[39m\u001b[38;5;124m\"\u001b[39m]\u001b[38;5;241m=\u001b[39mdf\u001b[38;5;241m.\u001b[39mapply(combined_features, axis \u001b[38;5;241m=\u001b[39m\u001b[38;5;241m1\u001b[39m)\n",
      "\u001b[1;31mNameError\u001b[0m: name 'combined_features' is not defined"
     ]
    }
   ],
   "source": [
    "df[\"combined_features\"]=df.apply(combined_feature, axis =1)"
   ]
  },
  {
   "cell_type": "code",
   "execution_count": null,
   "id": "9f1b720f-d076-43b1-8f77-0411246fe8ce",
   "metadata": {},
   "outputs": [],
   "source": []
  }
 ],
 "metadata": {
  "kernelspec": {
   "display_name": "Python 3 (ipykernel)",
   "language": "python",
   "name": "python3"
  },
  "language_info": {
   "codemirror_mode": {
    "name": "ipython",
    "version": 3
   },
   "file_extension": ".py",
   "mimetype": "text/x-python",
   "name": "python",
   "nbconvert_exporter": "python",
   "pygments_lexer": "ipython3",
   "version": "3.10.1"
  }
 },
 "nbformat": 4,
 "nbformat_minor": 5
}
