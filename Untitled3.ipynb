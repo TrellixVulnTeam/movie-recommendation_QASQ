{
 "cells": [
  {
   "cell_type": "code",
   "execution_count": 2,
   "id": "140dd4ab-95ce-4828-b689-607c71a0c4b9",
   "metadata": {},
   "outputs": [],
   "source": [
    "from sklearn.feature_extraction.text import CountVectorizer\n",
    "from sklearn.metrics.pairwise import cosine_similarity"
   ]
  },
  {
   "cell_type": "code",
   "execution_count": 3,
   "id": "07e8f64a-0a9f-4dfc-93a6-b0989172d592",
   "metadata": {},
   "outputs": [],
   "source": [
    "sentences = ['Superhero Action Movie','Romantic Movie','Superhero Action TV show','Romantic TV show']"
   ]
  },
  {
   "cell_type": "code",
   "execution_count": 4,
   "id": "6ef20ad5-6181-4143-bb11-f758645609e4",
   "metadata": {},
   "outputs": [],
   "source": [
    "cv= CountVectorizer()"
   ]
  },
  {
   "cell_type": "code",
   "execution_count": 5,
   "id": "9e3de043-45af-47e9-a575-7bc4599c98f1",
   "metadata": {},
   "outputs": [],
   "source": [
    "count_matrix = cv.fit_transform(sentences)"
   ]
  },
  {
   "cell_type": "code",
   "execution_count": 6,
   "id": "f9b29e27-8508-419d-9db5-9df8480125ed",
   "metadata": {},
   "outputs": [],
   "source": [
    "cosine_sum = cosine_similarity(count_matrix)"
   ]
  },
  {
   "cell_type": "code",
   "execution_count": 7,
   "id": "c2195920-d4aa-4965-80be-0d68d81e0567",
   "metadata": {},
   "outputs": [
    {
     "data": {
      "text/plain": [
       "array([[1.        , 0.40824829, 0.57735027, 0.        ],\n",
       "       [0.40824829, 1.        , 0.        , 0.40824829],\n",
       "       [0.57735027, 0.        , 1.        , 0.57735027],\n",
       "       [0.        , 0.40824829, 0.57735027, 1.        ]])"
      ]
     },
     "execution_count": 7,
     "metadata": {},
     "output_type": "execute_result"
    }
   ],
   "source": [
    "cosine_sum"
   ]
  },
  {
   "cell_type": "code",
   "execution_count": 8,
   "id": "03d8a2dd-d16b-49fa-9c35-e26c4d4534f1",
   "metadata": {},
   "outputs": [],
   "source": [
    "sentence_data = cosine_sum[0]"
   ]
  },
  {
   "cell_type": "code",
   "execution_count": 11,
   "id": "f94f237d-ac82-4287-8d5d-25300838cfd8",
   "metadata": {},
   "outputs": [
    {
     "data": {
      "text/plain": [
       "array([1.        , 0.40824829, 0.57735027, 0.        ])"
      ]
     },
     "execution_count": 11,
     "metadata": {},
     "output_type": "execute_result"
    }
   ],
   "source": [
    "sentence_data"
   ]
  },
  {
   "cell_type": "code",
   "execution_count": 12,
   "id": "fe4c4b01-66e4-4e16-b8b2-3d7c6e2a6749",
   "metadata": {},
   "outputs": [],
   "source": [
    "enumerated_data = enumerate(sentence_data)"
   ]
  },
  {
   "cell_type": "code",
   "execution_count": 13,
   "id": "935ec4ab-90e6-4671-8e0b-202675c91e7f",
   "metadata": {},
   "outputs": [
    {
     "data": {
      "text/plain": [
       "<enumerate at 0x17f68c87440>"
      ]
     },
     "execution_count": 13,
     "metadata": {},
     "output_type": "execute_result"
    }
   ],
   "source": [
    "enumerated_data"
   ]
  },
  {
   "cell_type": "code",
   "execution_count": 14,
   "id": "50526a39-d9de-443d-a7f4-102c9d5d955c",
   "metadata": {},
   "outputs": [],
   "source": [
    "list_data = list(enumerated_data)"
   ]
  },
  {
   "cell_type": "code",
   "execution_count": 18,
   "id": "a5cec24c-d8c4-4aa9-9551-530096a7437a",
   "metadata": {},
   "outputs": [
    {
     "data": {
      "text/plain": [
       "[(0, 1.0000000000000002),\n",
       " (1, 0.408248290463863),\n",
       " (2, 0.5773502691896258),\n",
       " (3, 0.0)]"
      ]
     },
     "execution_count": 18,
     "metadata": {},
     "output_type": "execute_result"
    }
   ],
   "source": [
    "list_data"
   ]
  },
  {
   "cell_type": "code",
   "execution_count": 19,
   "id": "abe68498-a2b0-4b16-965f-07c730cbd874",
   "metadata": {},
   "outputs": [],
   "source": [
    "sorted_list = sorted(list_data,key=lambda x:x[1], reverse=True)"
   ]
  },
  {
   "cell_type": "code",
   "execution_count": 20,
   "id": "f3198e05-ab47-47ce-b91e-8072cd8ebc03",
   "metadata": {},
   "outputs": [
    {
     "data": {
      "text/plain": [
       "[(0, 1.0000000000000002),\n",
       " (2, 0.5773502691896258),\n",
       " (1, 0.408248290463863),\n",
       " (3, 0.0)]"
      ]
     },
     "execution_count": 20,
     "metadata": {},
     "output_type": "execute_result"
    }
   ],
   "source": [
    "sorted_list"
   ]
  },
  {
   "cell_type": "code",
   "execution_count": 21,
   "id": "ff322f4a-53cb-41fa-8ea7-5f0f3eaeddcf",
   "metadata": {},
   "outputs": [
    {
     "data": {
      "text/plain": [
       "(2, 0.5773502691896258)"
      ]
     },
     "execution_count": 21,
     "metadata": {},
     "output_type": "execute_result"
    }
   ],
   "source": [
    "sorted_list[1]"
   ]
  },
  {
   "cell_type": "code",
   "execution_count": 22,
   "id": "8be49fce-7f3b-48bd-a49f-3d5389baeec3",
   "metadata": {},
   "outputs": [
    {
     "data": {
      "text/plain": [
       "2"
      ]
     },
     "execution_count": 22,
     "metadata": {},
     "output_type": "execute_result"
    }
   ],
   "source": [
    "sorted_list[1][0]"
   ]
  },
  {
   "cell_type": "code",
   "execution_count": 24,
   "id": "1ba25289-7632-432e-9d41-59dda4d1fe59",
   "metadata": {},
   "outputs": [],
   "source": [
    "nearest_sentence = sorted_list[1][0]"
   ]
  },
  {
   "cell_type": "code",
   "execution_count": 25,
   "id": "6b4d8523-08a5-420e-a041-56d8e940c168",
   "metadata": {},
   "outputs": [
    {
     "data": {
      "text/plain": [
       "'Superhero Action TV show'"
      ]
     },
     "execution_count": 25,
     "metadata": {},
     "output_type": "execute_result"
    }
   ],
   "source": [
    "sentences[nearest_sentence]"
   ]
  },
  {
   "cell_type": "code",
   "execution_count": null,
   "id": "b185f5d5-e76d-4d9d-ae72-b345bdd9c214",
   "metadata": {},
   "outputs": [],
   "source": []
  }
 ],
 "metadata": {
  "kernelspec": {
   "display_name": "Python 3 (ipykernel)",
   "language": "python",
   "name": "python3"
  },
  "language_info": {
   "codemirror_mode": {
    "name": "ipython",
    "version": 3
   },
   "file_extension": ".py",
   "mimetype": "text/x-python",
   "name": "python",
   "nbconvert_exporter": "python",
   "pygments_lexer": "ipython3",
   "version": "3.10.1"
  }
 },
 "nbformat": 4,
 "nbformat_minor": 5
}
