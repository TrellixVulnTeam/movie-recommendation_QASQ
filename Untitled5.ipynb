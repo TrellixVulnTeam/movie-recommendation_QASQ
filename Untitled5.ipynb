{
 "cells": [
  {
   "cell_type": "code",
   "execution_count": null,
   "id": "e6f7452a-befe-4325-9389-fc006de0ae60",
   "metadata": {},
   "outputs": [],
   "source": [
    "import pandas as pd\n",
    "from sklearn.feature_extraction.text import CountVectorizer\n",
    "from sklearn.metrics.pairwise import cosine_similarity"
   ]
  },
  {
   "cell_type": "code",
   "execution_count": null,
   "id": "6bc3f463-1aa4-43e6-85f9-a04926b1a367",
   "metadata": {},
   "outputs": [],
   "source": [
    "def combined_feature(row):\n",
    "    return row['genres']+\" \"+row['keywords']+\" \"+row['tagline']+\" \"+row['overview']+\" \"+row['cast']+\" \"+row['director']"
   ]
  },
  {
   "cell_type": "code",
   "execution_count": null,
   "id": "a51dde4d-d581-4dbf-9142-02c50b08f7a8",
   "metadata": {},
   "outputs": [],
   "source": [
    "features = ['keyboard','cast','tagline','overview','genres','director']\n",
    "for feature in features:\n",
    "    df[feature] = df[feature].fillna('')"
   ]
  },
  {
   "cell_type": "code",
   "execution_count": null,
   "id": "e547a4fd-ff7d-422a-b160-12e3ddc4d82f",
   "metadata": {},
   "outputs": [],
   "source": [
    "df[\"combined_features\"]=df.apply(combined_features, axis =1)"
   ]
  },
  {
   "cell_type": "code",
   "execution_count": null,
   "id": "21c0d490-03dd-4d00-923c-e9409897d8fe",
   "metadata": {},
   "outputs": [],
   "source": [
    "df[\"combined_features\"]"
   ]
  },
  {
   "cell_type": "code",
   "execution_count": null,
   "id": "0d4db843-48ce-4554-bc4e-11305833579c",
   "metadata": {},
   "outputs": [],
   "source": []
  }
 ],
 "metadata": {
  "kernelspec": {
   "display_name": "Python 3 (ipykernel)",
   "language": "python",
   "name": "python3"
  },
  "language_info": {
   "codemirror_mode": {
    "name": "ipython",
    "version": 3
   },
   "file_extension": ".py",
   "mimetype": "text/x-python",
   "name": "python",
   "nbconvert_exporter": "python",
   "pygments_lexer": "ipython3",
   "version": "3.10.1"
  }
 },
 "nbformat": 4,
 "nbformat_minor": 5
}
